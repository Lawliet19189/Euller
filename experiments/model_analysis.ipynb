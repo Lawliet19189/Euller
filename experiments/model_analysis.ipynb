{
 "cells": [
  {
   "cell_type": "code",
   "execution_count": 11,
   "id": "aware-nashville",
   "metadata": {},
   "outputs": [],
   "source": [
    "import sys\n",
    "sys.path.append(\"../\")\n",
    "\n",
    "%load_ext autoreload\n",
    "%autoreload 2"
   ]
  },
  {
   "cell_type": "code",
   "execution_count": 15,
   "id": "academic-meeting",
   "metadata": {},
   "outputs": [],
   "source": [
    "from lm_core import GPTLM"
   ]
  },
  {
   "cell_type": "code",
   "execution_count": 20,
   "id": "narrative-eligibility",
   "metadata": {},
   "outputs": [],
   "source": [
    "gpt = GPTLM()"
   ]
  },
  {
   "cell_type": "code",
   "execution_count": 21,
   "id": "regulated-austria",
   "metadata": {},
   "outputs": [],
   "source": [
    "text = gpt.tokenizer.bos_token + \" The cat was stuck on the tree.\"\n",
    "outputs = gpt.get_probabilities(text)"
   ]
  },
  {
   "cell_type": "code",
   "execution_count": 23,
   "id": "convenient-killer",
   "metadata": {},
   "outputs": [
    {
     "data": {
      "text/plain": [
       "dict_keys(['bpe_strings', 'true_topk', 'pred_topk'])"
      ]
     },
     "execution_count": 23,
     "metadata": {},
     "output_type": "execute_result"
    }
   ],
   "source": [
    "\n",
    "outputs.keys()"
   ]
  },
  {
   "cell_type": "code",
   "execution_count": null,
   "id": "approximate-entity",
   "metadata": {},
   "outputs": [],
   "source": []
  }
 ],
 "metadata": {
  "kernelspec": {
   "display_name": "gpt",
   "language": "python",
   "name": "gpt"
  },
  "language_info": {
   "codemirror_mode": {
    "name": "ipython",
    "version": 3
   },
   "file_extension": ".py",
   "mimetype": "text/x-python",
   "name": "python",
   "nbconvert_exporter": "python",
   "pygments_lexer": "ipython3",
   "version": "3.8.8"
  }
 },
 "nbformat": 4,
 "nbformat_minor": 5
}
