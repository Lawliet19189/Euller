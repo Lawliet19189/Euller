{
 "cells": [
  {
   "cell_type": "code",
   "execution_count": null,
   "id": "latest-employer",
   "metadata": {},
   "outputs": [],
   "source": [
    "import requests\n",
    "\n",
    "url = \"http://data.statmt.org/news-crawl/doc/en/news-docs.2020.en.filtered.gz\"\n",
    "\n",
    "session = requests.Session()\n",
    "session.auth = (\"newscrawl\", \"acrawl4me\")\n",
    "\n",
    "auth = session.post(url)\n",
    "\n",
    "filename = \"../data/\" + url.split(\"/\")[-1]\n",
    "with open(filename, \"wb\") as f:\n",
    "    r = requests.get(url)\n",
    "    f.write(r.content)"
   ]
  },
  {
   "cell_type": "code",
   "execution_count": null,
   "id": "younger-performer",
   "metadata": {},
   "outputs": [],
   "source": []
  }
 ],
 "metadata": {
  "kernelspec": {
   "display_name": "gpt",
   "language": "python",
   "name": "gpt"
  },
  "language_info": {
   "codemirror_mode": {
    "name": "ipython",
    "version": 3
   },
   "file_extension": ".py",
   "mimetype": "text/x-python",
   "name": "python",
   "nbconvert_exporter": "python",
   "pygments_lexer": "ipython3",
   "version": "3.8.8"
  }
 },
 "nbformat": 4,
 "nbformat_minor": 5
}
