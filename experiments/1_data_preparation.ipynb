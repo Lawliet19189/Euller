{
 "cells": [
  {
   "cell_type": "markdown",
   "id": "spoken-bottle",
   "metadata": {},
   "source": [
    "# Download Dataset"
   ]
  },
  {
   "cell_type": "code",
   "execution_count": null,
   "id": "alert-black",
   "metadata": {},
   "outputs": [],
   "source": [
    "# import requests\n",
    "\n",
    "# url = \"http://data.statmt.org/news-crawl/doc/en/news-docs.2020.en.filtered.gz\"\n",
    "\n",
    "# session = requests.Session()\n",
    "# session.auth = (\"newscrawl\", \"acrawl4me\")\n",
    "\n",
    "# auth = session.post(url)\n",
    "\n",
    "# filename = \"../data/\" + url.split(\"/\")[-1]\n",
    "# with open(filename, \"wb\") as f:\n",
    "#     r = requests.get(url)\n",
    "#     f.write(r.content)"
   ]
  },
  {
   "cell_type": "markdown",
   "id": "serious-utilization",
   "metadata": {},
   "source": [
    "# Load Dataset"
   ]
  },
  {
   "cell_type": "code",
   "execution_count": 30,
   "id": "occupational-start",
   "metadata": {},
   "outputs": [],
   "source": [
    "filename = \"../data/news-docs.2010.en.filtered\"\n",
    "#filename = \"../data/news-docs.2020.en.filtered\""
   ]
  },
  {
   "cell_type": "code",
   "execution_count": 1,
   "id": "centered-placement",
   "metadata": {},
   "outputs": [
    {
     "name": "stdout",
     "output_type": "stream",
     "text": [
      "stats: \n",
      "\n",
      "Total time taken to load the dataset:  -0.002901746998759336\n",
      "Total memory load for the dataset:  39.49999999999999 %\n"
     ]
    }
   ],
   "source": [
    "# in-efficient: blows memory\n",
    "\n",
    "import pandas as pd\n",
    "import timeit\n",
    "import psutil\n",
    "\n",
    "start = timeit.timeit()\n",
    "initial_memory = psutil.virtual_memory().percent\n",
    "\n",
    "df = pd.read_csv(filename, sep='\\t', names=[\"date\", \"sentenceSplit\", \"unsplit\"])\n",
    "\n",
    "end = timeit.timeit()\n",
    "end_memory = psutil.virtual_memory().percent\n",
    "\n",
    "print(\"stats: \\n\")\n",
    "print(\"Total time taken to load the dataset: \", end-start)\n",
    "print(\"Total memory load for the dataset: \", end_memory-initial_memory, \"%\")"
   ]
  },
  {
   "cell_type": "code",
   "execution_count": null,
   "id": "periodic-gravity",
   "metadata": {},
   "outputs": [],
   "source": [
    "# in-efficient: blows memory\n",
    "\n",
    "from datasets import Dataset\n",
    "\n",
    "dataset = Dataset.from_pandas(df)"
   ]
  },
  {
   "cell_type": "code",
   "execution_count": 31,
   "id": "backed-click",
   "metadata": {},
   "outputs": [
    {
     "name": "stderr",
     "output_type": "stream",
     "text": [
      "Using custom data configuration default-0654a090a0b5bb7c\n"
     ]
    },
    {
     "name": "stdout",
     "output_type": "stream",
     "text": [
      "Downloading and preparing dataset csv/default (download: Unknown size, generated: Unknown size, post-processed: Unknown size, total: Unknown size) to /home/sri/.cache/huggingface/datasets/csv/default-0654a090a0b5bb7c/0.0.0/2dc6629a9ff6b5697d82c25b73731dd440507a69cbce8b425db50b751e8fcfd0...\n"
     ]
    },
    {
     "data": {
      "application/vnd.jupyter.widget-view+json": {
       "model_id": "",
       "version_major": 2,
       "version_minor": 0
      },
      "text/plain": [
       "HBox(children=(FloatProgress(value=1.0, bar_style='info', layout=Layout(width='20px'), max=1.0), HTML(value=''…"
      ]
     },
     "metadata": {},
     "output_type": "display_data"
    },
    {
     "name": "stdout",
     "output_type": "stream",
     "text": [
      "Dataset csv downloaded and prepared to /home/sri/.cache/huggingface/datasets/csv/default-0654a090a0b5bb7c/0.0.0/2dc6629a9ff6b5697d82c25b73731dd440507a69cbce8b425db50b751e8fcfd0. Subsequent calls will reuse this data.\n"
     ]
    }
   ],
   "source": [
    "# Using hugginface datasets\n",
    "\n",
    "from datasets import load_dataset\n",
    "\n",
    "dataset = load_dataset('csv', data_files=filename, column_names=[\"date\", \"sentenceSplit\", \"unsplit\"], delimiter='\\t')"
   ]
  },
  {
   "cell_type": "code",
   "execution_count": 32,
   "id": "signed-digest",
   "metadata": {},
   "outputs": [
    {
     "data": {
      "application/vnd.jupyter.widget-view+json": {
       "model_id": "82c357ed2dbd465b8e743a2453f60509",
       "version_major": 2,
       "version_minor": 0
      },
      "text/plain": [
       "HBox(children=(FloatProgress(value=0.0, max=402493.0), HTML(value='')))"
      ]
     },
     "metadata": {},
     "output_type": "display_data"
    },
    {
     "name": "stdout",
     "output_type": "stream",
     "text": [
      "\n"
     ]
    }
   ],
   "source": [
    "# preprocessing the data\n",
    "\n",
    "import base64\n",
    "\n",
    "def base64_decode(rows):\n",
    "    #print (rows.keys())\n",
    "    decoded_rows = rows\n",
    "    decoded_rows['sentenceSplit'] = base64.b64decode(rows['sentenceSplit']).decode(\"utf-8\")\n",
    "    decoded_rows['unsplit'] = base64.b64decode(rows['unsplit']).decode(\"utf-8\")\n",
    "    return decoded_rows\n",
    "    #return (rows['date'], base64.b64decode(rows['sentenceSplit']).decode(\"utf-8\"), base64.b64decode(rows['unsplit']).decode(\"utf-8\"))\n",
    "\n",
    "decoded_dataset = dataset.map(base64_decode)"
   ]
  },
  {
   "cell_type": "code",
   "execution_count": 33,
   "id": "welsh-melbourne",
   "metadata": {},
   "outputs": [
    {
     "data": {
      "text/plain": [
       "2154039528"
      ]
     },
     "execution_count": 33,
     "metadata": {},
     "output_type": "execute_result"
    }
   ],
   "source": [
    "# storing them for future use\n",
    "decoded_dataset['train'].to_csv(\"../data/news-docs.2010.processed.csv\")"
   ]
  },
  {
   "cell_type": "code",
   "execution_count": null,
   "id": "expanded-shell",
   "metadata": {},
   "outputs": [],
   "source": []
  }
 ],
 "metadata": {
  "kernelspec": {
   "display_name": "gpt",
   "language": "python",
   "name": "gpt"
  },
  "language_info": {
   "codemirror_mode": {
    "name": "ipython",
    "version": 3
   },
   "file_extension": ".py",
   "mimetype": "text/x-python",
   "name": "python",
   "nbconvert_exporter": "python",
   "pygments_lexer": "ipython3",
   "version": "3.8.8"
  }
 },
 "nbformat": 4,
 "nbformat_minor": 5
}
